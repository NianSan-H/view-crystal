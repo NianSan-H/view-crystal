{
 "cells": [
  {
   "cell_type": "code",
   "execution_count": 1,
   "metadata": {},
   "outputs": [
    {
     "name": "stdout",
     "output_type": "stream",
     "text": [
      "Li3 V1 S4\n",
      "1.0\n",
      "   5.9330639100000004    0.0000000000000000    0.0000000000000004\n",
      "   0.0000000000000010    5.9330639100000004    0.0000000000000004\n",
      "   0.0000000000000000    0.0000000000000000    5.9330639100000004\n",
      "Li V S\n",
      "3 1 4\n",
      "direct\n",
      "   0.0000000000000000    0.0000000000000000    0.5000000000000000 Li\n",
      "   0.0000000000000000    0.5000000000000000    0.0000000000000000 Li\n",
      "   0.5000000000000000    0.0000000000000000    0.0000000000000000 Li\n",
      "   0.0000000000000000    0.0000000000000000    0.0000000000000000 V\n",
      "   0.2090020100000000    0.2090020100000000    0.2090020100000000 S\n",
      "   0.2090020100000000    0.7909979900000000    0.7909979900000000 S\n",
      "   0.7909979900000000    0.2090020100000000    0.7909979900000000 S\n",
      "   0.7909979900000000    0.7909979900000000    0.2090020100000000 S\n",
      "\n"
     ]
    }
   ],
   "source": [
    "from pymatgen.core import Structure\n",
    "\n",
    "structure = Structure.from_file(r\"./Li3VS4.cif\")\n",
    "print(structure.to(fmt=\"poscar\"))"
   ]
  },
  {
   "cell_type": "code",
   "execution_count": null,
   "metadata": {},
   "outputs": [],
   "source": [
    "import json\n",
    "\n",
    "with open(\"./Li3VS4.json\", \"w\") as poscar:\n",
    "    data = {\"poscar\": structure.to(fmt=\"poscar\")}\n",
    "    json.dump(data, poscar, indent=4)"
   ]
  }
 ],
 "metadata": {
  "kernelspec": {
   "display_name": "materials",
   "language": "python",
   "name": "python3"
  },
  "language_info": {
   "codemirror_mode": {
    "name": "ipython",
    "version": 3
   },
   "file_extension": ".py",
   "mimetype": "text/x-python",
   "name": "python",
   "nbconvert_exporter": "python",
   "pygments_lexer": "ipython3",
   "version": "3.11.0"
  }
 },
 "nbformat": 4,
 "nbformat_minor": 2
}
